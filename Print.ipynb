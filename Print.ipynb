{
 "cells": [
  {
   "cell_type": "code",
   "execution_count": 15,
   "metadata": {},
   "outputs": [],
   "source": [
    "import networkx as nx\n",
    "import itertools\n",
    "import matplotlib.pyplot as plt\n",
    "from random import random\n",
    "import numpy as np\n",
    "import collections\n",
    "from time import time"
   ]
  },
  {
   "cell_type": "code",
   "execution_count": 16,
   "metadata": {},
   "outputs": [],
   "source": [
    "### NetworkX functions ###\n",
    "\n",
    "def nx_template(d, shear):\n",
    "    # This just makes an nx graph with the right boundary conditions and weighted edges, for use in MWPM\n",
    "    # Is prepped for changing shear\n",
    "    G = nx.Graph()\n",
    "    for row in range(d-1):\n",
    "        for col in range(d):\n",
    "            G.add_edge((row, col), (row, (col+1)%d), weight=1)\n",
    "            G.add_edge((row, col), ((row+1)%d, col), weight=1)\n",
    "    row = d-1\n",
    "    for col in range(d):\n",
    "        G.add_edge((row, col), (row, (col+1)%d), weight=1)\n",
    "        G.add_edge((row, col), ((row+1)%d, (col+shear)%d), weight=1)\n",
    "    assert len(G.edges) == 2*(d**2)\n",
    "    return G\n",
    "def plot(G):\n",
    "    positions = {g: (g[1], -g[0]) for g in G.nodes}\n",
    "    plt.figure(figsize=(5, 5))\n",
    "    nx.draw(G, pos=positions, node_size=30, node_color='black', edge_color='orange', with_labels=True)\n",
    "    plt.show()\n",
    "def display_matches_only(matches):\n",
    "    G = nx.Graph()\n",
    "    G.add_edges_from(matches)\n",
    "    positions = {g: (g[1], -g[0]) for g in G.nodes}\n",
    "    plt.figure(figsize=(5, 5))\n",
    "    nx.draw(G, pos=positions, node_size=10, node_color='black', edge_color='orange', with_labels=True)\n",
    "    plt.show()"
   ]
  },
  {
   "cell_type": "code",
   "execution_count": 17,
   "metadata": {},
   "outputs": [],
   "source": [
    "### Pauli class for operators and their methods ###\n",
    "\n",
    "class Pauli:\n",
    "    def __init__(self, phase, op):\n",
    "        self.phase = phase\n",
    "        self.op = op\n",
    "    def __str__(self):\n",
    "        return str((\"Pauli\", self.phase, self.op))\n",
    "    __repr__ = __str__\n",
    "    def __mul__(self, other):\n",
    "        opa = self.op\n",
    "        opb = other.op\n",
    "        opc = ''\n",
    "        n = len(opa)\n",
    "        assert len(opa) == len(opb)\n",
    "        phase = self.phase*other.phase\n",
    "        for i in range(n):\n",
    "            if opa[i] == 'I':\n",
    "                opc += opb[i]\n",
    "            elif opb[i] == 'I':\n",
    "                opc += opa[i]\n",
    "            elif opa[i] == opb[i]:\n",
    "                opc += 'I'\n",
    "                if opa[i] == 'Y':\n",
    "                    phase *= -1\n",
    "            elif (opa[i] == 'X' and opb[i] == 'Z'):\n",
    "                opc += 'Y'\n",
    "            elif (opa[i] == 'Z' and opb[i] == 'X'):\n",
    "                opc += 'Y'\n",
    "                phase *= -1\n",
    "            elif (opa[i] == 'X' and opb[i] == 'Y'):\n",
    "                opc += 'Z'\n",
    "            elif (opa[i] == 'Y' and opb[i] == 'X'):\n",
    "                opc += 'Z'\n",
    "                phase *= -1    \n",
    "            elif (opa[i] == 'Y' and opb[i] == 'Z'):\n",
    "                opc += 'X'\n",
    "            elif (opa[i] == 'Z' and opb[i] == 'Y'):\n",
    "                opc += 'X'\n",
    "                phase *= -1 \n",
    "            else:\n",
    "                assert 0\n",
    "        return Pauli(phase, opc)\n",
    "    def __neg__(self):\n",
    "        return Pauli(-self.phase, self.op)\n",
    "    def __eq__(self, other):\n",
    "        return self.op == other.op and self.phase == other.phase\n",
    "    def __ne__(self, other):\n",
    "        return self.op != other.op or self.phase != other.phase\n",
    "    def __hash__(self):\n",
    "        return hash(str(self))\n",
    "    def commutes(self, other):\n",
    "        return self.__mul__(other) == other.__mul__(self)"
   ]
  },
  {
   "cell_type": "code",
   "execution_count": 18,
   "metadata": {},
   "outputs": [],
   "source": [
    "### Lattice class for a lattice object with qubits and checks (in dictionary formats) ###\n",
    "### Initiate Lattice, apply error or specific operator, and correct ###\n",
    "### At any point, display with dump() method which prints out the lattice as an array ###\n",
    "\n",
    "class Lattice:\n",
    "    def __init__(self, d, shear):\n",
    "        self.d = d\n",
    "        self.shear = shear\n",
    "        self.n = 2*(d**2)\n",
    "        Qubits = collections.OrderedDict() #N.B. qubits are ordered h, v for each check (not line by line)\n",
    "        for row in range(d):\n",
    "            for col in range(d):\n",
    "                address = (row, col, 'h')\n",
    "                Qubits[address] = 0\n",
    "                address = (row, col, 'v')\n",
    "                Qubits[address] = 0\n",
    "        self.q = Qubits\n",
    "        Checks = collections.OrderedDict()\n",
    "        for row in range(self.d):\n",
    "            for col in range(self.d):\n",
    "                Checks[row, col] = 0\n",
    "        self.c = Checks\n",
    "    def __str__(self):\n",
    "        return str((\"Qubit lattice\", self.d, self.n))\n",
    "    __repr__ = __str__\n",
    "    def light_checks(self):\n",
    "        # NB need to change this function when changing shear!\n",
    "        if self.shear == 0:\n",
    "            for row in range(self.d):\n",
    "                for col in range(self.d):\n",
    "                    val = (self.q[(row, col, 'h')] + self.q[(row, col, 'v')] +  self.q[(row, (col-1)%self.d, 'h')] + self.q[((row-1)%self.d, col, 'v')] ) %2\n",
    "                    if val:\n",
    "                        self.c[row, col] = 1\n",
    "                    else:\n",
    "                        self.c[row, col] = 0\n",
    "        else:\n",
    "            assert 0\n",
    "    def apply_error(self, threshold):\n",
    "        errop = ''\n",
    "        for qubit in list(self.q.keys()):\n",
    "            if random() < threshold:\n",
    "                self.q[qubit] = (self.q[qubit]+1)%2\n",
    "                errop += 'X'\n",
    "            else:\n",
    "                errop += 'I'\n",
    "        self.error = Pauli(1, errop)\n",
    "        self.light_checks()\n",
    "    def apply_op(self, Pauli):\n",
    "        assert len(self.q) == len(Pauli.op)\n",
    "        for i, qubit in enumerate(list(self.q.keys())):\n",
    "            if Pauli.op[i] == 'X':\n",
    "                self.q[qubit] = (self.q[qubit]+1)%2\n",
    "        self.light_checks()\n",
    "    def apply_op_z(self, Pauli):\n",
    "        assert len(self.q) == len(Pauli.op)\n",
    "        for i, qubit in enumerate(list(self.q.keys())):\n",
    "            if Pauli.op[i] == 'Z':\n",
    "                self.q[qubit] = 'Z'\n",
    "    def dump(self):\n",
    "        d = self.d*2\n",
    "        A = np.empty((d, d), dtype=object)\n",
    "        index = 0\n",
    "        for i in range(0, d, 2):\n",
    "            for j in range(0, d, 2):\n",
    "                ### checks ###\n",
    "                index += 1\n",
    "                if list(self.c.values())[index-1] == 1:\n",
    "                    A[i,j]='*'\n",
    "                elif list(self.c.values())[index-1] == 0:\n",
    "                    A[i,j]='+'\n",
    "                else:\n",
    "                    assert 0\n",
    "        horiz = []\n",
    "        verts = []\n",
    "        for n, qubit in enumerate(list(self.q.values())):\n",
    "            if n%2 == 0:\n",
    "                horiz.append(qubit)\n",
    "            elif n%2 == 1:\n",
    "                verts.append(qubit)\n",
    "            else:\n",
    "                assert 0\n",
    "        index = 0\n",
    "        for i in range(0, d, 2):\n",
    "            for j in range(1, d, 2):\n",
    "                ### horiz qubits ###\n",
    "                index += 1\n",
    "                if horiz[index-1] == 1:\n",
    "                    A[i,j]='X'\n",
    "                elif horiz[index-1] == 0:\n",
    "                    A[i,j]=\"-\"\n",
    "                elif horiz[index-1] == 'Z':\n",
    "                    A[i,j]=\"Z\"\n",
    "                else:\n",
    "                    assert 0\n",
    "        index = 0\n",
    "        for i in range(1, d, 2):\n",
    "            for j in range(0, d, 2):\n",
    "                ### vert qubits ###\n",
    "                index += 1\n",
    "                if verts[index-1] == 1:\n",
    "                    A[i,j]='X'\n",
    "                elif verts[index-1] == 0:\n",
    "                    A[i,j]=\"|\"\n",
    "                elif verts[index-1] == 'Z':\n",
    "                    A[i, j]=\"Z\"\n",
    "                else:\n",
    "                    assert 0\n",
    "        for i in range(1, d, 2):\n",
    "            for j in range(1, d, 2):\n",
    "                A[i,j]=' '\n",
    "        A = str(A)\n",
    "        A = A.replace(\"'\", \" \")\n",
    "        print(A)\n",
    "    def show_op(self, Pauli):\n",
    "        # shows what the operator would look like if enacted on a fresh lattice (all qubits = 0)\n",
    "        A = Lattice(self.d, self.shear)\n",
    "        if 'Z' in Pauli.op:\n",
    "            A.apply_op_z(Pauli)\n",
    "        else:\n",
    "            A.apply_op(Pauli)\n",
    "        return A.dump()\n",
    "    def correct(self):\n",
    "        lit_checks = []\n",
    "        for key, value in self.c.items():\n",
    "            if value == 1:\n",
    "                lit_checks.append(key)\n",
    "        self.lit_checks = lit_checks\n",
    "        different_pairs = list(itertools.combinations(lit_checks, 2))\n",
    "        T = nx_template(self.d, self.shear)\n",
    "        self.T = T\n",
    "        M = nx.Graph()\n",
    "        self.M = M\n",
    "        for pair in different_pairs:\n",
    "            path = nx.shortest_path(self.T, pair[0], pair[1], weight='weight')\n",
    "            distance = -(len(path)-1)\n",
    "            M.add_edge(pair[0], pair[1], weight=distance)\n",
    "        matches = nx.max_weight_matching(self.M, True)\n",
    "        self.matches = matches\n",
    "        qubit_addresses, paths = get_correction(self.matches, self.T, self.d)\n",
    "        self.q_a = qubit_addresses\n",
    "        self.paths = paths\n",
    "        for address in qubit_addresses:\n",
    "            self.q[address] = (self.q[address]+1)%2\n",
    "        self.light_checks()\n",
    "        corrop = ''\n",
    "        for i, qubit in enumerate(list(self.q.keys())):\n",
    "            if qubit in qubit_addresses:\n",
    "                corrop += 'X'\n",
    "            else:\n",
    "                corrop += 'I'\n",
    "        self.correction = Pauli(1, corrop)\n",
    "        self.BA = self.correction*self.error\n",
    "    def win_or_lose(self, verbose=False):\n",
    "        hop = ''\n",
    "        vop = ''\n",
    "        horiz=[(2*n)+1 for n in range(self.d)]\n",
    "        self.horiz = horiz\n",
    "        vert=[(self.d*2*n) for n in range(self.d)]\n",
    "        self.vert = vert\n",
    "        for i in range(self.n):\n",
    "            if i in horiz:\n",
    "                hop += 'Z'\n",
    "            else:\n",
    "                hop += 'I'\n",
    "            if i in vert:\n",
    "                vop += 'Z'\n",
    "            else:\n",
    "                vop += 'I'\n",
    "        self.H = Pauli(1, hop)\n",
    "        self.V = Pauli(1, vop)\n",
    "        cond1 = self.BA.commutes(self.H)\n",
    "        cond2 = self.BA.commutes(self.V)\n",
    "        if cond1 and cond2:\n",
    "            if not verbose:\n",
    "                return True\n",
    "            else:\n",
    "                print(\"win!\")\n",
    "                print(\"BA commutes with horizontal operator:\", cond1)\n",
    "                print(\"BA commutes with vertical operator:\", cond2)\n",
    "        else:\n",
    "            if not verbose:\n",
    "                return False\n",
    "            else:\n",
    "                print(\"lose\")\n",
    "                print(\"BA commutes with horizontal operator:\", cond1)\n",
    "                print(\"BA commutes with vertical operator:\", cond2)"
   ]
  },
  {
   "cell_type": "code",
   "execution_count": 19,
   "metadata": {},
   "outputs": [],
   "source": [
    "### This function works with the matches to return a list of qubit addresses to flip ###\n",
    "\n",
    "def get_correction(matches, template, d):\n",
    "    paths = []\n",
    "    for pair in list(matches):\n",
    "        paths.append(nx.shortest_path(template, pair[0], pair[1], weight='weight'))\n",
    "    qubit_list = []\n",
    "    for path in paths:\n",
    "        z = len(path)\n",
    "        for r in range(z-1):\n",
    "            qubit_list.append([path[r], path[r+1]])\n",
    "    qubit_addresses = []\n",
    "    for pair in qubit_list:\n",
    "        rows_eq = pair[0][0] == pair[1][0]\n",
    "        cols_eq = pair[0][1] == pair[1][1]\n",
    "        if rows_eq:\n",
    "            assert not cols_eq\n",
    "            if abs(pair[0][1]-pair[1][1]) == d-1:\n",
    "                if pair[0][1] < pair[1][1]:\n",
    "                    qubit_addresses.append((pair[1][0], pair[1][1], 'h'))\n",
    "                elif pair[0][1] > pair[1][1]:\n",
    "                    qubit_addresses.append((pair[0][0], pair[0][1], 'h'))\n",
    "            else:\n",
    "                if pair[0][1] < pair[1][1]:\n",
    "                    qubit_addresses.append((pair[0][0], pair[0][1], 'h'))\n",
    "                elif pair[0][1] > pair[1][1]:\n",
    "                    qubit_addresses.append((pair[1][0], pair[1][1], 'h'))\n",
    "        if cols_eq:\n",
    "            assert not rows_eq\n",
    "            if abs(pair[0][0]-pair[1][0]) == d-1:\n",
    "                if pair[0][0] < pair[1][0]:\n",
    "                    qubit_addresses.append((pair[1][0], pair[1][1], 'v'))\n",
    "                elif pair[0][0] > pair[1][0]:\n",
    "                    qubit_addresses.append((pair[0][0], pair[0][1], 'v'))\n",
    "            else:\n",
    "                if pair[0][0] < pair[1][0]:\n",
    "                    qubit_addresses.append((pair[0][0], pair[0][1], 'v'))\n",
    "                elif pair[0][0] > pair[1][0]:\n",
    "                    qubit_addresses.append((pair[1][0], pair[1][1], 'v'))\n",
    "    return qubit_addresses, paths"
   ]
  },
  {
   "cell_type": "code",
   "execution_count": 20,
   "metadata": {},
   "outputs": [],
   "source": [
    "def run(d, shear, threshold):\n",
    "    A = Lattice(d, shear)\n",
    "    A.apply_error(threshold)\n",
    "    A.correct()\n",
    "    result = A.win_or_lose()\n",
    "    A.dump()\n",
    "    return result"
   ]
  },
  {
   "cell_type": "code",
   "execution_count": 24,
   "metadata": {},
   "outputs": [],
   "source": [
    "def repeat(d, shear, threshold, reps):\n",
    "    results = []\n",
    "    for rep in range(reps):\n",
    "        A = Lattice(d, shear)\n",
    "        A.apply_error(threshold)\n",
    "        A.correct()\n",
    "        results.append(A.win_or_lose())\n",
    "    return results.count(False)/reps"
   ]
  },
  {
   "cell_type": "code",
   "execution_count": 25,
   "metadata": {},
   "outputs": [],
   "source": [
    "def graph(d_range, shear, threshold_range, reps, title):\n",
    "    t0=time()\n",
    "    for d in d_range:\n",
    "        y = []\n",
    "        for thresh in threshold_range:\n",
    "            y.append(repeat(d, shear, thresh, reps))\n",
    "        plt.plot(threshold_range, y, label = d, linewidth=2)\n",
    "    t1=time()\n",
    "    print(\"time taken = \", t1-t0)\n",
    "    plt.legend(title=\"distance\", loc=1, fontsize='small', fancybox=True)\n",
    "    plt.ylabel('probability of decoder failure')\n",
    "    plt.xlabel('probability of error per qubit')\n",
    "    plt.suptitle(title)\n",
    "    plt.show()"
   ]
  },
  {
   "cell_type": "code",
   "execution_count": 26,
   "metadata": {},
   "outputs": [],
   "source": [
    "def as_should(d_range, shear, threshold_range, reps, title):\n",
    "    for thresh in threshold_range:\n",
    "        y = []\n",
    "        for d in d_range:\n",
    "            y.append(repeat(d, shear, thresh, reps))\n",
    "        plt.plot(d, y, label = thresh, linewidth=2)\n",
    "    plt.legend(title=\"threshold\", loc=1, fontsize='small', fancybox=True)\n",
    "    plt.ylabel('probability of decoder failure')\n",
    "    plt.xlabel('Lattice size')\n",
    "    plt.suptitle(title)\n",
    "    plt.show()"
   ]
  },
  {
   "cell_type": "code",
   "execution_count": 10,
   "metadata": {},
   "outputs": [
    {
     "name": "stdout",
     "output_type": "stream",
     "text": [
      "[[ +   -   +   -   +   -   +   -   +   -   *   X   *   -   +   - ]\n",
      " [ |       |       |       |       |       |       |       |     ]\n",
      " [ +   -   *   X   *   -   *   -   +   -   +   -   +   -   +   - ]\n",
      " [ |       |       |       X       |       |       |       |     ]\n",
      " [ +   -   +   -   +   -   *   -   +   -   +   -   +   -   +   - ]\n",
      " [ |       |       |       |       |       |       |       |     ]\n",
      " [ +   -   *   -   +   -   +   -   +   -   +   -   *   -   +   - ]\n",
      " [ |       X       |       |       |       |       X       |     ]\n",
      " [ +   -   *   -   *   -   +   -   *   X   *   -   *   -   +   - ]\n",
      " [ |       |       X       |       |       |       |       |     ]\n",
      " [ +   -   *   X   +   -   +   -   *   X   *   -   +   -   *   - ]\n",
      " [ |       |       |       |       |       |       |       X     ]\n",
      " [ +   -   *   -   +   -   *   -   +   -   +   -   +   -   *   - ]\n",
      " [ |       X       |       X       |       |       |       |     ]\n",
      " [ +   -   *   -   +   -   *   -   +   -   +   -   +   -   +   - ]\n",
      " [ |       |       |       |       |       |       |       |     ]]\n"
     ]
    }
   ],
   "source": [
    "six = Lattice(8, 0)\n",
    "six.apply_error(0.1)\n",
    "six.dump()"
   ]
  },
  {
   "cell_type": "code",
   "execution_count": 11,
   "metadata": {},
   "outputs": [
    {
     "data": {
      "text/plain": [
       "True"
      ]
     },
     "execution_count": 11,
     "metadata": {},
     "output_type": "execute_result"
    }
   ],
   "source": [
    "six.correct()\n",
    "six.win_or_lose()"
   ]
  },
  {
   "cell_type": "code",
   "execution_count": 12,
   "metadata": {},
   "outputs": [
    {
     "data": {
      "image/png": "[encoded data removed]",
      "text/plain": [
       "<Figure size 360x360 with 1 Axes>"
      ]
     },
     "metadata": {},
     "output_type": "display_data"
    }
   ],
   "source": [
    "display_matches_only(six.matches)"
   ]
  },
  {
   "cell_type": "code",
   "execution_count": 13,
   "metadata": {
    "scrolled": true
   },
   "outputs": [
    {
     "name": "stdout",
     "output_type": "stream",
     "text": [
      "[[ +   -   +   -   +   -   +   -   +   -   *   X   *   -   +   - ]\n",
      " [ |       |       |       |       |       |       |       |     ]\n",
      " [ +   -   *   X   *   -   *   -   +   -   +   -   +   -   +   - ]\n",
      " [ |       |       |       X       |       |       |       |     ]\n",
      " [ +   -   +   -   +   -   *   -   +   -   +   -   +   -   +   - ]\n",
      " [ |       |       |       |       |       |       |       |     ]\n",
      " [ +   -   *   X   +   -   +   -   +   -   +   -   *   -   +   - ]\n",
      " [ |       |       X       |       |       |       X       |     ]\n",
      " [ +   -   *   -   *   -   +   -   *   -   *   -   *   -   +   - ]\n",
      " [ |       X       |       |       X       X       |       |     ]\n",
      " [ +   -   *   -   +   -   +   -   *   -   *   -   +   -   *   - ]\n",
      " [ |       |       |       |       |       |       |       X     ]\n",
      " [ +   -   *   -   +   -   *   -   +   -   +   -   +   -   *   - ]\n",
      " [ |       X       |       X       |       |       |       |     ]\n",
      " [ +   -   *   -   +   -   *   -   +   -   +   -   +   -   +   - ]\n",
      " [ |       |       |       |       |       |       |       |     ]]\n"
     ]
    }
   ],
   "source": [
    "six.show_op(six.correction)"
   ]
  },
  {
   "cell_type": "code",
   "execution_count": 14,
   "metadata": {},
   "outputs": [
    {
     "name": "stdout",
     "output_type": "stream",
     "text": [
      "[[ +   -   +   -   +   -   +   -   +   -   +   -   +   -   +   - ]\n",
      " [ |       |       |       |       |       |       |       |     ]\n",
      " [ +   -   +   -   +   -   +   -   +   -   +   -   +   -   +   - ]\n",
      " [ |       |       |       |       |       |       |       |     ]\n",
      " [ +   -   +   -   +   -   +   -   +   -   +   -   +   -   +   - ]\n",
      " [ |       |       |       |       |       |       |       |     ]\n",
      " [ +   -   +   X   +   -   +   -   +   -   +   -   +   -   +   - ]\n",
      " [ |       X       X       |       |       |       |       |     ]\n",
      " [ +   -   +   -   +   -   +   -   +   X   +   -   +   -   +   - ]\n",
      " [ |       X       X       |       X       X       |       |     ]\n",
      " [ +   -   +   X   +   -   +   -   +   X   +   -   +   -   +   - ]\n",
      " [ |       |       |       |       |       |       |       |     ]\n",
      " [ +   -   +   -   +   -   +   -   +   -   +   -   +   -   +   - ]\n",
      " [ |       |       |       |       |       |       |       |     ]\n",
      " [ +   -   +   -   +   -   +   -   +   -   +   -   +   -   +   - ]\n",
      " [ |       |       |       |       |       |       |       |     ]]\n"
     ]
    }
   ],
   "source": [
    "six.dump()"
   ]
  },
  {
   "cell_type": "code",
   "execution_count": 16,
   "metadata": {},
   "outputs": [
    {
     "name": "stdout",
     "output_type": "stream",
     "text": [
      "[[ +   Z   +   -   +   -   +   -   +   -   +   -   +   -   +   - ]\n",
      " [ |       |       |       |       |       |       |       |     ]\n",
      " [ +   Z   +   -   +   -   +   -   +   -   +   -   +   -   +   - ]\n",
      " [ |       |       |       |       |       |       |       |     ]\n",
      " [ +   Z   +   -   +   -   +   -   +   -   +   -   +   -   +   - ]\n",
      " [ |       |       |       |       |       |       |       |     ]\n",
      " [ +   Z   +   -   +   -   +   -   +   -   +   -   +   -   +   - ]\n",
      " [ |       |       |       |       |       |       |       |     ]\n",
      " [ +   Z   +   -   +   -   +   -   +   -   +   -   +   -   +   - ]\n",
      " [ |       |       |       |       |       |       |       |     ]\n",
      " [ +   Z   +   -   +   -   +   -   +   -   +   -   +   -   +   - ]\n",
      " [ |       |       |       |       |       |       |       |     ]\n",
      " [ +   Z   +   -   +   -   +   -   +   -   +   -   +   -   +   - ]\n",
      " [ |       |       |       |       |       |       |       |     ]\n",
      " [ +   Z   +   -   +   -   +   -   +   -   +   -   +   -   +   - ]\n",
      " [ |       |       |       |       |       |       |       |     ]]\n"
     ]
    }
   ],
   "source": [
    "six.show_op(six.V)"
   ]
  },
  {
   "cell_type": "code",
   "execution_count": 17,
   "metadata": {},
   "outputs": [
    {
     "name": "stdout",
     "output_type": "stream",
     "text": [
      "[[ +   -   +   -   +   -   +   -   +   -   +   -   +   -   +   - ]\n",
      " [ Z       Z       Z       Z       Z       Z       Z       Z     ]\n",
      " [ +   -   +   -   +   -   +   -   +   -   +   -   +   -   +   - ]\n",
      " [ |       |       |       |       |       |       |       |     ]\n",
      " [ +   -   +   -   +   -   +   -   +   -   +   -   +   -   +   - ]\n",
      " [ |       |       |       |       |       |       |       |     ]\n",
      " [ +   -   +   -   +   -   +   -   +   -   +   -   +   -   +   - ]\n",
      " [ |       |       |       |       |       |       |       |     ]\n",
      " [ +   -   +   -   +   -   +   -   +   -   +   -   +   -   +   - ]\n",
      " [ |       |       |       |       |       |       |       |     ]\n",
      " [ +   -   +   -   +   -   +   -   +   -   +   -   +   -   +   - ]\n",
      " [ |       |       |       |       |       |       |       |     ]\n",
      " [ +   -   +   -   +   -   +   -   +   -   +   -   +   -   +   - ]\n",
      " [ |       |       |       |       |       |       |       |     ]\n",
      " [ +   -   +   -   +   -   +   -   +   -   +   -   +   -   +   - ]\n",
      " [ |       |       |       |       |       |       |       |     ]]\n"
     ]
    }
   ],
   "source": [
    "six.show_op(six.H)"
   ]
  },
  {
   "cell_type": "code",
   "execution_count": 18,
   "metadata": {},
   "outputs": [
    {
     "data": {
      "text/plain": [
       "True"
      ]
     },
     "execution_count": 18,
     "metadata": {},
     "output_type": "execute_result"
    }
   ],
   "source": [
    "six.V.commutes(six.BA)"
   ]
  },
  {
   "cell_type": "code",
   "execution_count": 19,
   "metadata": {},
   "outputs": [
    {
     "data": {
      "text/plain": [
       "True"
      ]
     },
     "execution_count": 19,
     "metadata": {},
     "output_type": "execute_result"
    }
   ],
   "source": [
    "six.H.commutes(six.BA)"
   ]
  },
  {
   "cell_type": "code",
   "execution_count": 27,
   "metadata": {},
   "outputs": [],
   "source": [
    "threshold_range=list(np.arange(0.035, 0.085, 0.005))"
   ]
  },
  {
   "cell_type": "code",
   "execution_count": 28,
   "metadata": {},
   "outputs": [
    {
     "name": "stdout",
     "output_type": "stream",
     "text": [
      "time taken =  0.9099655151367188\n"
     ]
    },
    {
     "data": {
      "image/png": "[encoded data removed]",
      "text/plain": [
       "<Figure size 432x288 with 1 Axes>"
      ]
     },
     "metadata": {
      "needs_background": "light"
     },
     "output_type": "display_data"
    }
   ],
   "source": [
    "graph([5], 0, threshold_range, 100, 'd=5 for small values p')"
   ]
  },
  {
   "cell_type": "markdown",
   "metadata": {},
   "source": [
    "For d=5, pthresh=0.08, we have psuccess=0.87, pfail=0.13, which agrees with the article."
   ]
  },
  {
   "cell_type": "code",
   "execution_count": null,
   "metadata": {},
   "outputs": [],
   "source": []
  }
 ],
 "metadata": {
  "kernelspec": {
   "display_name": "Python 3",
   "language": "python",
   "name": "python3"
  },
  "language_info": {
   "codemirror_mode": {
    "name": "ipython",
    "version": 3
   },
   "file_extension": ".py",
   "mimetype": "text/x-python",
   "name": "python",
   "nbconvert_exporter": "python",
   "pygments_lexer": "ipython3",
   "version": "3.6.5"
  }
 },
 "nbformat": 4,
 "nbformat_minor": 2
}
